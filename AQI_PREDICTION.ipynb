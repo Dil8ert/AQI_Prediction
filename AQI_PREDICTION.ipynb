{
  "nbformat": 4,
  "nbformat_minor": 0,
  "metadata": {
    "colab": {
      "provenance": [],
      "authorship_tag": "ABX9TyNeJrGnYolEbhUlweXNW2mb",
      "include_colab_link": true
    },
    "kernelspec": {
      "name": "python3",
      "display_name": "Python 3"
    },
    "language_info": {
      "name": "python"
    }
  },
  "cells": [
    {
      "cell_type": "markdown",
      "metadata": {
        "id": "view-in-github",
        "colab_type": "text"
      },
      "source": [
        "<a href=\"https://colab.research.google.com/github/Dil8ert/AQI_prediction/blob/main/AQI_PREDICTION.ipynb\" target=\"_parent\"><img src=\"https://colab.research.google.com/assets/colab-badge.svg\" alt=\"Open In Colab\"/></a>"
      ]
    },
    {
      "cell_type": "code",
      "execution_count": null,
      "metadata": {
        "id": "p8aehmi1qsBI"
      },
      "outputs": [],
      "source": [
        "import pandas as pd\n",
        "import numpy as np\n",
        "import seaborn as sns\n",
        "%matplotlib inline"
      ]
    },
    {
      "cell_type": "code",
      "source": [
        "df = pd.read_csv(\"city_day.csv\")\n",
        "df['Date'] = pd.to_datetime(df['Date'])\n",
        "df['date_delta'] = (df['Date'] - df['Date'].min())  / np.timedelta64(1,'D')\n",
        "df"
      ],
      "metadata": {
        "colab": {
          "base_uri": "https://localhost:8080/",
          "height": 423
        },
        "id": "fYzmxLthq6Hh",
        "outputId": "746b5a72-fb42-485c-f64b-c0cf3622573f"
      },
      "execution_count": null,
      "outputs": [
        {
          "output_type": "execute_result",
          "data": {
            "text/plain": [
              "                City       Date  PM2.5   PM10     NO    NO2    NOx    NH3  \\\n",
              "0          Ahmedabad 2015-01-01    NaN    NaN   0.92  18.22  17.15    NaN   \n",
              "1          Ahmedabad 2015-01-02    NaN    NaN   0.97  15.69  16.46    NaN   \n",
              "2          Ahmedabad 2015-01-03    NaN    NaN  17.40  19.30  29.70    NaN   \n",
              "3          Ahmedabad 2015-01-04    NaN    NaN   1.70  18.48  17.97    NaN   \n",
              "4          Ahmedabad 2015-01-05    NaN    NaN  22.10  21.42  37.76    NaN   \n",
              "...              ...        ...    ...    ...    ...    ...    ...    ...   \n",
              "29526  Visakhapatnam 2020-06-27  15.02  50.94   7.68  25.06  19.54  12.47   \n",
              "29527  Visakhapatnam 2020-06-28  24.38  74.09   3.42  26.06  16.53  11.99   \n",
              "29528  Visakhapatnam 2020-06-29  22.91  65.73   3.45  29.53  18.33  10.71   \n",
              "29529  Visakhapatnam 2020-06-30  16.64  49.97   4.05  29.26  18.80  10.03   \n",
              "29530  Visakhapatnam 2020-07-01  15.00  66.00   0.40  26.85  14.05   5.20   \n",
              "\n",
              "          CO    SO2      O3  Benzene  Toluene  Xylene   AQI    AQI_Bucket  \\\n",
              "0       0.92  27.64  133.36     0.00     0.02    0.00   NaN           NaN   \n",
              "1       0.97  24.55   34.06     3.68     5.50    3.77   NaN           NaN   \n",
              "2      17.40  29.07   30.70     6.80    16.40    2.25   NaN           NaN   \n",
              "3       1.70  18.59   36.08     4.43    10.14    1.00   NaN           NaN   \n",
              "4      22.10  39.33   39.31     7.01    18.89    2.78   NaN           NaN   \n",
              "...      ...    ...     ...      ...      ...     ...   ...           ...   \n",
              "29526   0.47   8.55   23.30     2.24    12.07    0.73  41.0          Good   \n",
              "29527   0.52  12.72   30.14     0.74     2.21    0.38  70.0  Satisfactory   \n",
              "29528   0.48   8.42   30.96     0.01     0.01    0.00  68.0  Satisfactory   \n",
              "29529   0.52   9.84   28.30     0.00     0.00    0.00  54.0  Satisfactory   \n",
              "29530   0.59   2.10   17.05      NaN      NaN     NaN  50.0          Good   \n",
              "\n",
              "       date_delta  \n",
              "0             0.0  \n",
              "1             1.0  \n",
              "2             2.0  \n",
              "3             3.0  \n",
              "4             4.0  \n",
              "...           ...  \n",
              "29526      2004.0  \n",
              "29527      2005.0  \n",
              "29528      2006.0  \n",
              "29529      2007.0  \n",
              "29530      2008.0  \n",
              "\n",
              "[29531 rows x 17 columns]"
            ],
            "text/html": [
              "\n",
              "  <div id=\"df-7f8cf764-2878-4081-bd27-1611f05e645e\">\n",
              "    <div class=\"colab-df-container\">\n",
              "      <div>\n",
              "<style scoped>\n",
              "    .dataframe tbody tr th:only-of-type {\n",
              "        vertical-align: middle;\n",
              "    }\n",
              "\n",
              "    .dataframe tbody tr th {\n",
              "        vertical-align: top;\n",
              "    }\n",
              "\n",
              "    .dataframe thead th {\n",
              "        text-align: right;\n",
              "    }\n",
              "</style>\n",
              "<table border=\"1\" class=\"dataframe\">\n",
              "  <thead>\n",
              "    <tr style=\"text-align: right;\">\n",
              "      <th></th>\n",
              "      <th>City</th>\n",
              "      <th>Date</th>\n",
              "      <th>PM2.5</th>\n",
              "      <th>PM10</th>\n",
              "      <th>NO</th>\n",
              "      <th>NO2</th>\n",
              "      <th>NOx</th>\n",
              "      <th>NH3</th>\n",
              "      <th>CO</th>\n",
              "      <th>SO2</th>\n",
              "      <th>O3</th>\n",
              "      <th>Benzene</th>\n",
              "      <th>Toluene</th>\n",
              "      <th>Xylene</th>\n",
              "      <th>AQI</th>\n",
              "      <th>AQI_Bucket</th>\n",
              "      <th>date_delta</th>\n",
              "    </tr>\n",
              "  </thead>\n",
              "  <tbody>\n",
              "    <tr>\n",
              "      <th>0</th>\n",
              "      <td>Ahmedabad</td>\n",
              "      <td>2015-01-01</td>\n",
              "      <td>NaN</td>\n",
              "      <td>NaN</td>\n",
              "      <td>0.92</td>\n",
              "      <td>18.22</td>\n",
              "      <td>17.15</td>\n",
              "      <td>NaN</td>\n",
              "      <td>0.92</td>\n",
              "      <td>27.64</td>\n",
              "      <td>133.36</td>\n",
              "      <td>0.00</td>\n",
              "      <td>0.02</td>\n",
              "      <td>0.00</td>\n",
              "      <td>NaN</td>\n",
              "      <td>NaN</td>\n",
              "      <td>0.0</td>\n",
              "    </tr>\n",
              "    <tr>\n",
              "      <th>1</th>\n",
              "      <td>Ahmedabad</td>\n",
              "      <td>2015-01-02</td>\n",
              "      <td>NaN</td>\n",
              "      <td>NaN</td>\n",
              "      <td>0.97</td>\n",
              "      <td>15.69</td>\n",
              "      <td>16.46</td>\n",
              "      <td>NaN</td>\n",
              "      <td>0.97</td>\n",
              "      <td>24.55</td>\n",
              "      <td>34.06</td>\n",
              "      <td>3.68</td>\n",
              "      <td>5.50</td>\n",
              "      <td>3.77</td>\n",
              "      <td>NaN</td>\n",
              "      <td>NaN</td>\n",
              "      <td>1.0</td>\n",
              "    </tr>\n",
              "    <tr>\n",
              "      <th>2</th>\n",
              "      <td>Ahmedabad</td>\n",
              "      <td>2015-01-03</td>\n",
              "      <td>NaN</td>\n",
              "      <td>NaN</td>\n",
              "      <td>17.40</td>\n",
              "      <td>19.30</td>\n",
              "      <td>29.70</td>\n",
              "      <td>NaN</td>\n",
              "      <td>17.40</td>\n",
              "      <td>29.07</td>\n",
              "      <td>30.70</td>\n",
              "      <td>6.80</td>\n",
              "      <td>16.40</td>\n",
              "      <td>2.25</td>\n",
              "      <td>NaN</td>\n",
              "      <td>NaN</td>\n",
              "      <td>2.0</td>\n",
              "    </tr>\n",
              "    <tr>\n",
              "      <th>3</th>\n",
              "      <td>Ahmedabad</td>\n",
              "      <td>2015-01-04</td>\n",
              "      <td>NaN</td>\n",
              "      <td>NaN</td>\n",
              "      <td>1.70</td>\n",
              "      <td>18.48</td>\n",
              "      <td>17.97</td>\n",
              "      <td>NaN</td>\n",
              "      <td>1.70</td>\n",
              "      <td>18.59</td>\n",
              "      <td>36.08</td>\n",
              "      <td>4.43</td>\n",
              "      <td>10.14</td>\n",
              "      <td>1.00</td>\n",
              "      <td>NaN</td>\n",
              "      <td>NaN</td>\n",
              "      <td>3.0</td>\n",
              "    </tr>\n",
              "    <tr>\n",
              "      <th>4</th>\n",
              "      <td>Ahmedabad</td>\n",
              "      <td>2015-01-05</td>\n",
              "      <td>NaN</td>\n",
              "      <td>NaN</td>\n",
              "      <td>22.10</td>\n",
              "      <td>21.42</td>\n",
              "      <td>37.76</td>\n",
              "      <td>NaN</td>\n",
              "      <td>22.10</td>\n",
              "      <td>39.33</td>\n",
              "      <td>39.31</td>\n",
              "      <td>7.01</td>\n",
              "      <td>18.89</td>\n",
              "      <td>2.78</td>\n",
              "      <td>NaN</td>\n",
              "      <td>NaN</td>\n",
              "      <td>4.0</td>\n",
              "    </tr>\n",
              "    <tr>\n",
              "      <th>...</th>\n",
              "      <td>...</td>\n",
              "      <td>...</td>\n",
              "      <td>...</td>\n",
              "      <td>...</td>\n",
              "      <td>...</td>\n",
              "      <td>...</td>\n",
              "      <td>...</td>\n",
              "      <td>...</td>\n",
              "      <td>...</td>\n",
              "      <td>...</td>\n",
              "      <td>...</td>\n",
              "      <td>...</td>\n",
              "      <td>...</td>\n",
              "      <td>...</td>\n",
              "      <td>...</td>\n",
              "      <td>...</td>\n",
              "      <td>...</td>\n",
              "    </tr>\n",
              "    <tr>\n",
              "      <th>29526</th>\n",
              "      <td>Visakhapatnam</td>\n",
              "      <td>2020-06-27</td>\n",
              "      <td>15.02</td>\n",
              "      <td>50.94</td>\n",
              "      <td>7.68</td>\n",
              "      <td>25.06</td>\n",
              "      <td>19.54</td>\n",
              "      <td>12.47</td>\n",
              "      <td>0.47</td>\n",
              "      <td>8.55</td>\n",
              "      <td>23.30</td>\n",
              "      <td>2.24</td>\n",
              "      <td>12.07</td>\n",
              "      <td>0.73</td>\n",
              "      <td>41.0</td>\n",
              "      <td>Good</td>\n",
              "      <td>2004.0</td>\n",
              "    </tr>\n",
              "    <tr>\n",
              "      <th>29527</th>\n",
              "      <td>Visakhapatnam</td>\n",
              "      <td>2020-06-28</td>\n",
              "      <td>24.38</td>\n",
              "      <td>74.09</td>\n",
              "      <td>3.42</td>\n",
              "      <td>26.06</td>\n",
              "      <td>16.53</td>\n",
              "      <td>11.99</td>\n",
              "      <td>0.52</td>\n",
              "      <td>12.72</td>\n",
              "      <td>30.14</td>\n",
              "      <td>0.74</td>\n",
              "      <td>2.21</td>\n",
              "      <td>0.38</td>\n",
              "      <td>70.0</td>\n",
              "      <td>Satisfactory</td>\n",
              "      <td>2005.0</td>\n",
              "    </tr>\n",
              "    <tr>\n",
              "      <th>29528</th>\n",
              "      <td>Visakhapatnam</td>\n",
              "      <td>2020-06-29</td>\n",
              "      <td>22.91</td>\n",
              "      <td>65.73</td>\n",
              "      <td>3.45</td>\n",
              "      <td>29.53</td>\n",
              "      <td>18.33</td>\n",
              "      <td>10.71</td>\n",
              "      <td>0.48</td>\n",
              "      <td>8.42</td>\n",
              "      <td>30.96</td>\n",
              "      <td>0.01</td>\n",
              "      <td>0.01</td>\n",
              "      <td>0.00</td>\n",
              "      <td>68.0</td>\n",
              "      <td>Satisfactory</td>\n",
              "      <td>2006.0</td>\n",
              "    </tr>\n",
              "    <tr>\n",
              "      <th>29529</th>\n",
              "      <td>Visakhapatnam</td>\n",
              "      <td>2020-06-30</td>\n",
              "      <td>16.64</td>\n",
              "      <td>49.97</td>\n",
              "      <td>4.05</td>\n",
              "      <td>29.26</td>\n",
              "      <td>18.80</td>\n",
              "      <td>10.03</td>\n",
              "      <td>0.52</td>\n",
              "      <td>9.84</td>\n",
              "      <td>28.30</td>\n",
              "      <td>0.00</td>\n",
              "      <td>0.00</td>\n",
              "      <td>0.00</td>\n",
              "      <td>54.0</td>\n",
              "      <td>Satisfactory</td>\n",
              "      <td>2007.0</td>\n",
              "    </tr>\n",
              "    <tr>\n",
              "      <th>29530</th>\n",
              "      <td>Visakhapatnam</td>\n",
              "      <td>2020-07-01</td>\n",
              "      <td>15.00</td>\n",
              "      <td>66.00</td>\n",
              "      <td>0.40</td>\n",
              "      <td>26.85</td>\n",
              "      <td>14.05</td>\n",
              "      <td>5.20</td>\n",
              "      <td>0.59</td>\n",
              "      <td>2.10</td>\n",
              "      <td>17.05</td>\n",
              "      <td>NaN</td>\n",
              "      <td>NaN</td>\n",
              "      <td>NaN</td>\n",
              "      <td>50.0</td>\n",
              "      <td>Good</td>\n",
              "      <td>2008.0</td>\n",
              "    </tr>\n",
              "  </tbody>\n",
              "</table>\n",
              "<p>29531 rows × 17 columns</p>\n",
              "</div>\n",
              "      <button class=\"colab-df-convert\" onclick=\"convertToInteractive('df-7f8cf764-2878-4081-bd27-1611f05e645e')\"\n",
              "              title=\"Convert this dataframe to an interactive table.\"\n",
              "              style=\"display:none;\">\n",
              "        \n",
              "  <svg xmlns=\"http://www.w3.org/2000/svg\" height=\"24px\"viewBox=\"0 0 24 24\"\n",
              "       width=\"24px\">\n",
              "    <path d=\"M0 0h24v24H0V0z\" fill=\"none\"/>\n",
              "    <path d=\"M18.56 5.44l.94 2.06.94-2.06 2.06-.94-2.06-.94-.94-2.06-.94 2.06-2.06.94zm-11 1L8.5 8.5l.94-2.06 2.06-.94-2.06-.94L8.5 2.5l-.94 2.06-2.06.94zm10 10l.94 2.06.94-2.06 2.06-.94-2.06-.94-.94-2.06-.94 2.06-2.06.94z\"/><path d=\"M17.41 7.96l-1.37-1.37c-.4-.4-.92-.59-1.43-.59-.52 0-1.04.2-1.43.59L10.3 9.45l-7.72 7.72c-.78.78-.78 2.05 0 2.83L4 21.41c.39.39.9.59 1.41.59.51 0 1.02-.2 1.41-.59l7.78-7.78 2.81-2.81c.8-.78.8-2.07 0-2.86zM5.41 20L4 18.59l7.72-7.72 1.47 1.35L5.41 20z\"/>\n",
              "  </svg>\n",
              "      </button>\n",
              "      \n",
              "  <style>\n",
              "    .colab-df-container {\n",
              "      display:flex;\n",
              "      flex-wrap:wrap;\n",
              "      gap: 12px;\n",
              "    }\n",
              "\n",
              "    .colab-df-convert {\n",
              "      background-color: #E8F0FE;\n",
              "      border: none;\n",
              "      border-radius: 50%;\n",
              "      cursor: pointer;\n",
              "      display: none;\n",
              "      fill: #1967D2;\n",
              "      height: 32px;\n",
              "      padding: 0 0 0 0;\n",
              "      width: 32px;\n",
              "    }\n",
              "\n",
              "    .colab-df-convert:hover {\n",
              "      background-color: #E2EBFA;\n",
              "      box-shadow: 0px 1px 2px rgba(60, 64, 67, 0.3), 0px 1px 3px 1px rgba(60, 64, 67, 0.15);\n",
              "      fill: #174EA6;\n",
              "    }\n",
              "\n",
              "    [theme=dark] .colab-df-convert {\n",
              "      background-color: #3B4455;\n",
              "      fill: #D2E3FC;\n",
              "    }\n",
              "\n",
              "    [theme=dark] .colab-df-convert:hover {\n",
              "      background-color: #434B5C;\n",
              "      box-shadow: 0px 1px 3px 1px rgba(0, 0, 0, 0.15);\n",
              "      filter: drop-shadow(0px 1px 2px rgba(0, 0, 0, 0.3));\n",
              "      fill: #FFFFFF;\n",
              "    }\n",
              "  </style>\n",
              "\n",
              "      <script>\n",
              "        const buttonEl =\n",
              "          document.querySelector('#df-7f8cf764-2878-4081-bd27-1611f05e645e button.colab-df-convert');\n",
              "        buttonEl.style.display =\n",
              "          google.colab.kernel.accessAllowed ? 'block' : 'none';\n",
              "\n",
              "        async function convertToInteractive(key) {\n",
              "          const element = document.querySelector('#df-7f8cf764-2878-4081-bd27-1611f05e645e');\n",
              "          const dataTable =\n",
              "            await google.colab.kernel.invokeFunction('convertToInteractive',\n",
              "                                                     [key], {});\n",
              "          if (!dataTable) return;\n",
              "\n",
              "          const docLinkHtml = 'Like what you see? Visit the ' +\n",
              "            '<a target=\"_blank\" href=https://colab.research.google.com/notebooks/data_table.ipynb>data table notebook</a>'\n",
              "            + ' to learn more about interactive tables.';\n",
              "          element.innerHTML = '';\n",
              "          dataTable['output_type'] = 'display_data';\n",
              "          await google.colab.output.renderOutput(dataTable, element);\n",
              "          const docLink = document.createElement('div');\n",
              "          docLink.innerHTML = docLinkHtml;\n",
              "          element.appendChild(docLink);\n",
              "        }\n",
              "      </script>\n",
              "    </div>\n",
              "  </div>\n",
              "  "
            ]
          },
          "metadata": {},
          "execution_count": 2
        }
      ]
    },
    {
      "cell_type": "code",
      "source": [
        "df.value_counts(df['AQI_Bucket'])\n",
        "sns.histplot(data=df['AQI_Bucket'])"
      ],
      "metadata": {
        "colab": {
          "base_uri": "https://localhost:8080/",
          "height": 299
        },
        "id": "u41mFbMnq-Rf",
        "outputId": "a5a9421a-03f6-4f26-8fa1-59534f126624"
      },
      "execution_count": null,
      "outputs": [
        {
          "output_type": "execute_result",
          "data": {
            "text/plain": [
              "<matplotlib.axes._subplots.AxesSubplot at 0x7f0597bf82d0>"
            ]
          },
          "metadata": {},
          "execution_count": 3
        },
        {
          "output_type": "display_data",
          "data": {
            "text/plain": [
              "<Figure size 432x288 with 1 Axes>"
            ],
            "image/png": "[encoded data removed]"
          },
          "metadata": {
            "needs_background": "light"
          }
        }
      ]
    },
    {
      "cell_type": "code",
      "source": [
        "df1 = df.copy()\n",
        "df1['PM2.5']=df1['PM2.5'].fillna((df1['PM2.5'].median()))\n",
        "df1['PM10']=df1['PM10'].fillna((df1['PM10'].median()))\n",
        "df1['NO']=df1['NO'].fillna((df1['NO'].median()))\n",
        "df1['NO2']=df1['NO2'].fillna((df1['NO2'].median()))\n",
        "df1['NOx']=df1['NOx'].fillna((df1['NOx'].median()))\n",
        "df1['NH3']=df1['NH3'].fillna((df1['NH3'].median()))\n",
        "df1['CO']=df1['CO'].fillna((df1['CO'].median()))\n",
        "df1['SO2']=df1['SO2'].fillna((df1['SO2'].median()))\n",
        "df1['O3']=df1['O3'].fillna((df1['O3'].median()))\n",
        "df1['Benzene']=df1['Benzene'].fillna((df1['Benzene'].median()))\n",
        "df1['Toluene']=df1['Toluene'].fillna((df1['Toluene'].median()))\n",
        "df1['Xylene']=df1['Xylene'].fillna((df1['Xylene'].median()))\n",
        "df1['AQI']=df1['AQI'].fillna((df1['AQI'].median()))"
      ],
      "metadata": {
        "id": "kAyTqfvrrFfK"
      },
      "execution_count": null,
      "outputs": []
    },
    {
      "cell_type": "code",
      "source": [
        "df1.describe()"
      ],
      "metadata": {
        "colab": {
          "base_uri": "https://localhost:8080/",
          "height": 298
        },
        "id": "yivRb8qlszjI",
        "outputId": "deed5a46-e377-4c1b-88b2-7222c6a78caf"
      },
      "execution_count": null,
      "outputs": [
        {
          "output_type": "execute_result",
          "data": {
            "text/plain": [
              "              PM2.5          PM10            NO           NO2           NOx  \\\n",
              "count  29531.000000  29531.000000  29531.000000  29531.000000  29531.000000   \n",
              "mean      64.510857    109.659366     16.642601     27.726576     31.063568   \n",
              "std       59.807551     72.324020     21.506064     23.050531     29.477748   \n",
              "min        0.040000      0.010000      0.020000      0.010000      0.000000   \n",
              "25%       32.150000     79.315000      6.210000     12.980000     14.670000   \n",
              "50%       48.570000     95.680000      9.890000     21.690000     23.520000   \n",
              "75%       72.450000    111.880000     17.570000     34.665000     36.015000   \n",
              "max      949.990000   1000.000000    390.680000    362.210000    467.630000   \n",
              "\n",
              "                NH3            CO           SO2            O3       Benzene  \\\n",
              "count  29531.000000  29531.000000  29531.000000  29531.000000  29531.000000   \n",
              "mean      20.813789      2.153872     13.830897     33.994121      2.859874   \n",
              "std       21.028862      6.724660     17.005647     20.202304     14.252822   \n",
              "min        0.010000      0.000000      0.010000      0.010000      0.000000   \n",
              "25%       12.040000      0.540000      6.090000     20.740000      0.240000   \n",
              "50%       15.850000      0.890000      9.160000     30.840000      1.070000   \n",
              "75%       21.755000      1.380000     13.810000     42.730000      2.420000   \n",
              "max      352.890000    175.810000    193.860000    257.730000    455.030000   \n",
              "\n",
              "            Toluene        Xylene           AQI    date_delta  \n",
              "count  29531.000000  29531.000000  29531.000000  29531.000000  \n",
              "mean       7.140485      1.788420    158.781552   1229.236294  \n",
              "std       17.224737      4.062039    130.272413    548.624475  \n",
              "min        0.000000      0.000000     13.000000      0.000000  \n",
              "25%        1.280000      0.980000     88.000000    836.000000  \n",
              "50%        2.970000      0.980000    118.000000   1312.000000  \n",
              "75%        6.020000      0.980000    179.000000   1706.000000  \n",
              "max      454.850000    170.370000   2049.000000   2008.000000  "
            ],
            "text/html": [
              "\n",
              "  <div id=\"df-0f2d1c0a-9dd3-45e8-822f-555105b06fa8\">\n",
              "    <div class=\"colab-df-container\">\n",
              "      <div>\n",
              "<style scoped>\n",
              "    .dataframe tbody tr th:only-of-type {\n",
              "        vertical-align: middle;\n",
              "    }\n",
              "\n",
              "    .dataframe tbody tr th {\n",
              "        vertical-align: top;\n",
              "    }\n",
              "\n",
              "    .dataframe thead th {\n",
              "        text-align: right;\n",
              "    }\n",
              "</style>\n",
              "<table border=\"1\" class=\"dataframe\">\n",
              "  <thead>\n",
              "    <tr style=\"text-align: right;\">\n",
              "      <th></th>\n",
              "      <th>PM2.5</th>\n",
              "      <th>PM10</th>\n",
              "      <th>NO</th>\n",
              "      <th>NO2</th>\n",
              "      <th>NOx</th>\n",
              "      <th>NH3</th>\n",
              "      <th>CO</th>\n",
              "      <th>SO2</th>\n",
              "      <th>O3</th>\n",
              "      <th>Benzene</th>\n",
              "      <th>Toluene</th>\n",
              "      <th>Xylene</th>\n",
              "      <th>AQI</th>\n",
              "      <th>date_delta</th>\n",
              "    </tr>\n",
              "  </thead>\n",
              "  <tbody>\n",
              "    <tr>\n",
              "      <th>count</th>\n",
              "      <td>29531.000000</td>\n",
              "      <td>29531.000000</td>\n",
              "      <td>29531.000000</td>\n",
              "      <td>29531.000000</td>\n",
              "      <td>29531.000000</td>\n",
              "      <td>29531.000000</td>\n",
              "      <td>29531.000000</td>\n",
              "      <td>29531.000000</td>\n",
              "      <td>29531.000000</td>\n",
              "      <td>29531.000000</td>\n",
              "      <td>29531.000000</td>\n",
              "      <td>29531.000000</td>\n",
              "      <td>29531.000000</td>\n",
              "      <td>29531.000000</td>\n",
              "    </tr>\n",
              "    <tr>\n",
              "      <th>mean</th>\n",
              "      <td>64.510857</td>\n",
              "      <td>109.659366</td>\n",
              "      <td>16.642601</td>\n",
              "      <td>27.726576</td>\n",
              "      <td>31.063568</td>\n",
              "      <td>20.813789</td>\n",
              "      <td>2.153872</td>\n",
              "      <td>13.830897</td>\n",
              "      <td>33.994121</td>\n",
              "      <td>2.859874</td>\n",
              "      <td>7.140485</td>\n",
              "      <td>1.788420</td>\n",
              "      <td>158.781552</td>\n",
              "      <td>1229.236294</td>\n",
              "    </tr>\n",
              "    <tr>\n",
              "      <th>std</th>\n",
              "      <td>59.807551</td>\n",
              "      <td>72.324020</td>\n",
              "      <td>21.506064</td>\n",
              "      <td>23.050531</td>\n",
              "      <td>29.477748</td>\n",
              "      <td>21.028862</td>\n",
              "      <td>6.724660</td>\n",
              "      <td>17.005647</td>\n",
              "      <td>20.202304</td>\n",
              "      <td>14.252822</td>\n",
              "      <td>17.224737</td>\n",
              "      <td>4.062039</td>\n",
              "      <td>130.272413</td>\n",
              "      <td>548.624475</td>\n",
              "    </tr>\n",
              "    <tr>\n",
              "      <th>min</th>\n",
              "      <td>0.040000</td>\n",
              "      <td>0.010000</td>\n",
              "      <td>0.020000</td>\n",
              "      <td>0.010000</td>\n",
              "      <td>0.000000</td>\n",
              "      <td>0.010000</td>\n",
              "      <td>0.000000</td>\n",
              "      <td>0.010000</td>\n",
              "      <td>0.010000</td>\n",
              "      <td>0.000000</td>\n",
              "      <td>0.000000</td>\n",
              "      <td>0.000000</td>\n",
              "      <td>13.000000</td>\n",
              "      <td>0.000000</td>\n",
              "    </tr>\n",
              "    <tr>\n",
              "      <th>25%</th>\n",
              "      <td>32.150000</td>\n",
              "      <td>79.315000</td>\n",
              "      <td>6.210000</td>\n",
              "      <td>12.980000</td>\n",
              "      <td>14.670000</td>\n",
              "      <td>12.040000</td>\n",
              "      <td>0.540000</td>\n",
              "      <td>6.090000</td>\n",
              "      <td>20.740000</td>\n",
              "      <td>0.240000</td>\n",
              "      <td>1.280000</td>\n",
              "      <td>0.980000</td>\n",
              "      <td>88.000000</td>\n",
              "      <td>836.000000</td>\n",
              "    </tr>\n",
              "    <tr>\n",
              "      <th>50%</th>\n",
              "      <td>48.570000</td>\n",
              "      <td>95.680000</td>\n",
              "      <td>9.890000</td>\n",
              "      <td>21.690000</td>\n",
              "      <td>23.520000</td>\n",
              "      <td>15.850000</td>\n",
              "      <td>0.890000</td>\n",
              "      <td>9.160000</td>\n",
              "      <td>30.840000</td>\n",
              "      <td>1.070000</td>\n",
              "      <td>2.970000</td>\n",
              "      <td>0.980000</td>\n",
              "      <td>118.000000</td>\n",
              "      <td>1312.000000</td>\n",
              "    </tr>\n",
              "    <tr>\n",
              "      <th>75%</th>\n",
              "      <td>72.450000</td>\n",
              "      <td>111.880000</td>\n",
              "      <td>17.570000</td>\n",
              "      <td>34.665000</td>\n",
              "      <td>36.015000</td>\n",
              "      <td>21.755000</td>\n",
              "      <td>1.380000</td>\n",
              "      <td>13.810000</td>\n",
              "      <td>42.730000</td>\n",
              "      <td>2.420000</td>\n",
              "      <td>6.020000</td>\n",
              "      <td>0.980000</td>\n",
              "      <td>179.000000</td>\n",
              "      <td>1706.000000</td>\n",
              "    </tr>\n",
              "    <tr>\n",
              "      <th>max</th>\n",
              "      <td>949.990000</td>\n",
              "      <td>1000.000000</td>\n",
              "      <td>390.680000</td>\n",
              "      <td>362.210000</td>\n",
              "      <td>467.630000</td>\n",
              "      <td>352.890000</td>\n",
              "      <td>175.810000</td>\n",
              "      <td>193.860000</td>\n",
              "      <td>257.730000</td>\n",
              "      <td>455.030000</td>\n",
              "      <td>454.850000</td>\n",
              "      <td>170.370000</td>\n",
              "      <td>2049.000000</td>\n",
              "      <td>2008.000000</td>\n",
              "    </tr>\n",
              "  </tbody>\n",
              "</table>\n",
              "</div>\n",
              "      <button class=\"colab-df-convert\" onclick=\"convertToInteractive('df-0f2d1c0a-9dd3-45e8-822f-555105b06fa8')\"\n",
              "              title=\"Convert this dataframe to an interactive table.\"\n",
              "              style=\"display:none;\">\n",
              "        \n",
              "  <svg xmlns=\"http://www.w3.org/2000/svg\" height=\"24px\"viewBox=\"0 0 24 24\"\n",
              "       width=\"24px\">\n",
              "    <path d=\"M0 0h24v24H0V0z\" fill=\"none\"/>\n",
              "    <path d=\"M18.56 5.44l.94 2.06.94-2.06 2.06-.94-2.06-.94-.94-2.06-.94 2.06-2.06.94zm-11 1L8.5 8.5l.94-2.06 2.06-.94-2.06-.94L8.5 2.5l-.94 2.06-2.06.94zm10 10l.94 2.06.94-2.06 2.06-.94-2.06-.94-.94-2.06-.94 2.06-2.06.94z\"/><path d=\"M17.41 7.96l-1.37-1.37c-.4-.4-.92-.59-1.43-.59-.52 0-1.04.2-1.43.59L10.3 9.45l-7.72 7.72c-.78.78-.78 2.05 0 2.83L4 21.41c.39.39.9.59 1.41.59.51 0 1.02-.2 1.41-.59l7.78-7.78 2.81-2.81c.8-.78.8-2.07 0-2.86zM5.41 20L4 18.59l7.72-7.72 1.47 1.35L5.41 20z\"/>\n",
              "  </svg>\n",
              "      </button>\n",
              "      \n",
              "  <style>\n",
              "    .colab-df-container {\n",
              "      display:flex;\n",
              "      flex-wrap:wrap;\n",
              "      gap: 12px;\n",
              "    }\n",
              "\n",
              "    .colab-df-convert {\n",
              "      background-color: #E8F0FE;\n",
              "      border: none;\n",
              "      border-radius: 50%;\n",
              "      cursor: pointer;\n",
              "      display: none;\n",
              "      fill: #1967D2;\n",
              "      height: 32px;\n",
              "      padding: 0 0 0 0;\n",
              "      width: 32px;\n",
              "    }\n",
              "\n",
              "    .colab-df-convert:hover {\n",
              "      background-color: #E2EBFA;\n",
              "      box-shadow: 0px 1px 2px rgba(60, 64, 67, 0.3), 0px 1px 3px 1px rgba(60, 64, 67, 0.15);\n",
              "      fill: #174EA6;\n",
              "    }\n",
              "\n",
              "    [theme=dark] .colab-df-convert {\n",
              "      background-color: #3B4455;\n",
              "      fill: #D2E3FC;\n",
              "    }\n",
              "\n",
              "    [theme=dark] .colab-df-convert:hover {\n",
              "      background-color: #434B5C;\n",
              "      box-shadow: 0px 1px 3px 1px rgba(0, 0, 0, 0.15);\n",
              "      filter: drop-shadow(0px 1px 2px rgba(0, 0, 0, 0.3));\n",
              "      fill: #FFFFFF;\n",
              "    }\n",
              "  </style>\n",
              "\n",
              "      <script>\n",
              "        const buttonEl =\n",
              "          document.querySelector('#df-0f2d1c0a-9dd3-45e8-822f-555105b06fa8 button.colab-df-convert');\n",
              "        buttonEl.style.display =\n",
              "          google.colab.kernel.accessAllowed ? 'block' : 'none';\n",
              "\n",
              "        async function convertToInteractive(key) {\n",
              "          const element = document.querySelector('#df-0f2d1c0a-9dd3-45e8-822f-555105b06fa8');\n",
              "          const dataTable =\n",
              "            await google.colab.kernel.invokeFunction('convertToInteractive',\n",
              "                                                     [key], {});\n",
              "          if (!dataTable) return;\n",
              "\n",
              "          const docLinkHtml = 'Like what you see? Visit the ' +\n",
              "            '<a target=\"_blank\" href=https://colab.research.google.com/notebooks/data_table.ipynb>data table notebook</a>'\n",
              "            + ' to learn more about interactive tables.';\n",
              "          element.innerHTML = '';\n",
              "          dataTable['output_type'] = 'display_data';\n",
              "          await google.colab.output.renderOutput(dataTable, element);\n",
              "          const docLink = document.createElement('div');\n",
              "          docLink.innerHTML = docLinkHtml;\n",
              "          element.appendChild(docLink);\n",
              "        }\n",
              "      </script>\n",
              "    </div>\n",
              "  </div>\n",
              "  "
            ]
          },
          "metadata": {},
          "execution_count": 5
        }
      ]
    },
    {
      "cell_type": "code",
      "source": [
        "df1.info()"
      ],
      "metadata": {
        "colab": {
          "base_uri": "https://localhost:8080/"
        },
        "id": "UD9T3NDQtb3n",
        "outputId": "8497c0c5-5b6e-43c8-8eea-c11613e5a361"
      },
      "execution_count": null,
      "outputs": [
        {
          "output_type": "stream",
          "name": "stdout",
          "text": [
            "<class 'pandas.core.frame.DataFrame'>\n",
            "RangeIndex: 29531 entries, 0 to 29530\n",
            "Data columns (total 17 columns):\n",
            " #   Column      Non-Null Count  Dtype         \n",
            "---  ------      --------------  -----         \n",
            " 0   City        29531 non-null  object        \n",
            " 1   Date        29531 non-null  datetime64[ns]\n",
            " 2   PM2.5       29531 non-null  float64       \n",
            " 3   PM10        29531 non-null  float64       \n",
            " 4   NO          29531 non-null  float64       \n",
            " 5   NO2         29531 non-null  float64       \n",
            " 6   NOx         29531 non-null  float64       \n",
            " 7   NH3         29531 non-null  float64       \n",
            " 8   CO          29531 non-null  float64       \n",
            " 9   SO2         29531 non-null  float64       \n",
            " 10  O3          29531 non-null  float64       \n",
            " 11  Benzene     29531 non-null  float64       \n",
            " 12  Toluene     29531 non-null  float64       \n",
            " 13  Xylene      29531 non-null  float64       \n",
            " 14  AQI         29531 non-null  float64       \n",
            " 15  AQI_Bucket  24850 non-null  object        \n",
            " 16  date_delta  29531 non-null  float64       \n",
            "dtypes: datetime64[ns](1), float64(14), object(2)\n",
            "memory usage: 3.8+ MB\n"
          ]
        }
      ]
    },
    {
      "cell_type": "code",
      "source": [
        "df1['AQI_Bucket']=df1['AQI_Bucket'].fillna('Moderate')"
      ],
      "metadata": {
        "id": "YbbyYeg_tfQo"
      },
      "execution_count": null,
      "outputs": []
    },
    {
      "cell_type": "code",
      "source": [
        "df = df1"
      ],
      "metadata": {
        "id": "JJq-Ov7fuE4d"
      },
      "execution_count": null,
      "outputs": []
    },
    {
      "cell_type": "code",
      "source": [
        "df\n",
        "sns.histplot(data=df['AQI_Bucket'])"
      ],
      "metadata": {
        "colab": {
          "base_uri": "https://localhost:8080/",
          "height": 300
        },
        "id": "cQ9AzFTQuG7V",
        "outputId": "18faeb03-ed62-4af1-848a-c03e4afd32d2"
      },
      "execution_count": null,
      "outputs": [
        {
          "output_type": "execute_result",
          "data": {
            "text/plain": [
              "<matplotlib.axes._subplots.AxesSubplot at 0x7ff3c5c188d0>"
            ]
          },
          "metadata": {},
          "execution_count": 161
        },
        {
          "output_type": "display_data",
          "data": {
            "text/plain": [
              "<Figure size 432x288 with 1 Axes>"
            ],
            "image/png": "[encoded data removed]"
          },
          "metadata": {
            "needs_background": "light"
          }
        }
      ]
    },
    {
      "cell_type": "code",
      "source": [
        "df['vehical pollution'] = 0\n",
        "for i in df.columns[2:11]:\n",
        "    df['vehical pollution'] += df[i]\n",
        "df['industrial pollution'] = 0\n",
        "for i in df.columns[11:15]:\n",
        "    df['industrial pollution'] += df[i]\n",
        "df['total'] = df['industrial pollution'] + df['vehical pollution']\n",
        "df['total'].max()"
      ],
      "metadata": {
        "colab": {
          "base_uri": "https://localhost:8080/"
        },
        "id": "1hA5rik7ur8C",
        "outputId": "63bc0fb9-4b2d-471c-8687-3b23e7be461b"
      },
      "execution_count": null,
      "outputs": [
        {
          "output_type": "execute_result",
          "data": {
            "text/plain": [
              "3176.3100000000004"
            ]
          },
          "metadata": {},
          "execution_count": 7
        }
      ]
    },
    {
      "cell_type": "code",
      "source": [
        "df['total'].min()"
      ],
      "metadata": {
        "colab": {
          "base_uri": "https://localhost:8080/"
        },
        "id": "QnZOxrTBE6NV",
        "outputId": "63faf03c-dc18-4168-fe7a-a10a724b38d7"
      },
      "execution_count": null,
      "outputs": [
        {
          "output_type": "execute_result",
          "data": {
            "text/plain": [
              "43.989999999999995"
            ]
          },
          "metadata": {},
          "execution_count": 13
        }
      ]
    },
    {
      "cell_type": "code",
      "source": [
        "df.loc[np.where(df['total'] == 3176.3100000000004 )[0]]"
      ],
      "metadata": {
        "colab": {
          "base_uri": "https://localhost:8080/",
          "height": 159
        },
        "id": "JrLfNnlVGTsj",
        "outputId": "2dbbf1eb-259a-469b-c292-946688302b72"
      },
      "execution_count": null,
      "outputs": [
        {
          "output_type": "execute_result",
          "data": {
            "text/plain": [
              "           City       Date   PM2.5   PM10      NO     NO2     NOx    NH3  \\\n",
              "1145  Ahmedabad 2018-02-19  242.66  95.68  132.47  199.17  246.03  15.85   \n",
              "\n",
              "          CO   SO2     O3  Benzene  Toluene  Xylene     AQI AQI_Bucket  \\\n",
              "1145  132.47  9.16  44.06     0.74     5.81    3.21  2049.0     Severe   \n",
              "\n",
              "      vehical pollution  industrial pollution    total  \n",
              "1145            1117.55               2058.76  3176.31  "
            ],
            "text/html": [
              "\n",
              "  <div id=\"df-d7368b60-7334-404e-92d6-280c042e5870\">\n",
              "    <div class=\"colab-df-container\">\n",
              "      <div>\n",
              "<style scoped>\n",
              "    .dataframe tbody tr th:only-of-type {\n",
              "        vertical-align: middle;\n",
              "    }\n",
              "\n",
              "    .dataframe tbody tr th {\n",
              "        vertical-align: top;\n",
              "    }\n",
              "\n",
              "    .dataframe thead th {\n",
              "        text-align: right;\n",
              "    }\n",
              "</style>\n",
              "<table border=\"1\" class=\"dataframe\">\n",
              "  <thead>\n",
              "    <tr style=\"text-align: right;\">\n",
              "      <th></th>\n",
              "      <th>City</th>\n",
              "      <th>Date</th>\n",
              "      <th>PM2.5</th>\n",
              "      <th>PM10</th>\n",
              "      <th>NO</th>\n",
              "      <th>NO2</th>\n",
              "      <th>NOx</th>\n",
              "      <th>NH3</th>\n",
              "      <th>CO</th>\n",
              "      <th>SO2</th>\n",
              "      <th>O3</th>\n",
              "      <th>Benzene</th>\n",
              "      <th>Toluene</th>\n",
              "      <th>Xylene</th>\n",
              "      <th>AQI</th>\n",
              "      <th>AQI_Bucket</th>\n",
              "      <th>vehical pollution</th>\n",
              "      <th>industrial pollution</th>\n",
              "      <th>total</th>\n",
              "    </tr>\n",
              "  </thead>\n",
              "  <tbody>\n",
              "    <tr>\n",
              "      <th>1145</th>\n",
              "      <td>Ahmedabad</td>\n",
              "      <td>2018-02-19</td>\n",
              "      <td>242.66</td>\n",
              "      <td>95.68</td>\n",
              "      <td>132.47</td>\n",
              "      <td>199.17</td>\n",
              "      <td>246.03</td>\n",
              "      <td>15.85</td>\n",
              "      <td>132.47</td>\n",
              "      <td>9.16</td>\n",
              "      <td>44.06</td>\n",
              "      <td>0.74</td>\n",
              "      <td>5.81</td>\n",
              "      <td>3.21</td>\n",
              "      <td>2049.0</td>\n",
              "      <td>Severe</td>\n",
              "      <td>1117.55</td>\n",
              "      <td>2058.76</td>\n",
              "      <td>3176.31</td>\n",
              "    </tr>\n",
              "  </tbody>\n",
              "</table>\n",
              "</div>\n",
              "      <button class=\"colab-df-convert\" onclick=\"convertToInteractive('df-d7368b60-7334-404e-92d6-280c042e5870')\"\n",
              "              title=\"Convert this dataframe to an interactive table.\"\n",
              "              style=\"display:none;\">\n",
              "        \n",
              "  <svg xmlns=\"http://www.w3.org/2000/svg\" height=\"24px\"viewBox=\"0 0 24 24\"\n",
              "       width=\"24px\">\n",
              "    <path d=\"M0 0h24v24H0V0z\" fill=\"none\"/>\n",
              "    <path d=\"M18.56 5.44l.94 2.06.94-2.06 2.06-.94-2.06-.94-.94-2.06-.94 2.06-2.06.94zm-11 1L8.5 8.5l.94-2.06 2.06-.94-2.06-.94L8.5 2.5l-.94 2.06-2.06.94zm10 10l.94 2.06.94-2.06 2.06-.94-2.06-.94-.94-2.06-.94 2.06-2.06.94z\"/><path d=\"M17.41 7.96l-1.37-1.37c-.4-.4-.92-.59-1.43-.59-.52 0-1.04.2-1.43.59L10.3 9.45l-7.72 7.72c-.78.78-.78 2.05 0 2.83L4 21.41c.39.39.9.59 1.41.59.51 0 1.02-.2 1.41-.59l7.78-7.78 2.81-2.81c.8-.78.8-2.07 0-2.86zM5.41 20L4 18.59l7.72-7.72 1.47 1.35L5.41 20z\"/>\n",
              "  </svg>\n",
              "      </button>\n",
              "      \n",
              "  <style>\n",
              "    .colab-df-container {\n",
              "      display:flex;\n",
              "      flex-wrap:wrap;\n",
              "      gap: 12px;\n",
              "    }\n",
              "\n",
              "    .colab-df-convert {\n",
              "      background-color: #E8F0FE;\n",
              "      border: none;\n",
              "      border-radius: 50%;\n",
              "      cursor: pointer;\n",
              "      display: none;\n",
              "      fill: #1967D2;\n",
              "      height: 32px;\n",
              "      padding: 0 0 0 0;\n",
              "      width: 32px;\n",
              "    }\n",
              "\n",
              "    .colab-df-convert:hover {\n",
              "      background-color: #E2EBFA;\n",
              "      box-shadow: 0px 1px 2px rgba(60, 64, 67, 0.3), 0px 1px 3px 1px rgba(60, 64, 67, 0.15);\n",
              "      fill: #174EA6;\n",
              "    }\n",
              "\n",
              "    [theme=dark] .colab-df-convert {\n",
              "      background-color: #3B4455;\n",
              "      fill: #D2E3FC;\n",
              "    }\n",
              "\n",
              "    [theme=dark] .colab-df-convert:hover {\n",
              "      background-color: #434B5C;\n",
              "      box-shadow: 0px 1px 3px 1px rgba(0, 0, 0, 0.15);\n",
              "      filter: drop-shadow(0px 1px 2px rgba(0, 0, 0, 0.3));\n",
              "      fill: #FFFFFF;\n",
              "    }\n",
              "  </style>\n",
              "\n",
              "      <script>\n",
              "        const buttonEl =\n",
              "          document.querySelector('#df-d7368b60-7334-404e-92d6-280c042e5870 button.colab-df-convert');\n",
              "        buttonEl.style.display =\n",
              "          google.colab.kernel.accessAllowed ? 'block' : 'none';\n",
              "\n",
              "        async function convertToInteractive(key) {\n",
              "          const element = document.querySelector('#df-d7368b60-7334-404e-92d6-280c042e5870');\n",
              "          const dataTable =\n",
              "            await google.colab.kernel.invokeFunction('convertToInteractive',\n",
              "                                                     [key], {});\n",
              "          if (!dataTable) return;\n",
              "\n",
              "          const docLinkHtml = 'Like what you see? Visit the ' +\n",
              "            '<a target=\"_blank\" href=https://colab.research.google.com/notebooks/data_table.ipynb>data table notebook</a>'\n",
              "            + ' to learn more about interactive tables.';\n",
              "          element.innerHTML = '';\n",
              "          dataTable['output_type'] = 'display_data';\n",
              "          await google.colab.output.renderOutput(dataTable, element);\n",
              "          const docLink = document.createElement('div');\n",
              "          docLink.innerHTML = docLinkHtml;\n",
              "          element.appendChild(docLink);\n",
              "        }\n",
              "      </script>\n",
              "    </div>\n",
              "  </div>\n",
              "  "
            ]
          },
          "metadata": {},
          "execution_count": 43
        }
      ]
    },
    {
      "cell_type": "code",
      "source": [
        "df.loc[np.where(df['AQI_Bucket'] == 'Moderate')]['total'].min()"
      ],
      "metadata": {
        "colab": {
          "base_uri": "https://localhost:8080/"
        },
        "id": "Pn8okU7JHCna",
        "outputId": "e9bb56d6-e5a3-4779-9151-3007b189dcc0"
      },
      "execution_count": null,
      "outputs": [
        {
          "output_type": "execute_result",
          "data": {
            "text/plain": [
              "139.59"
            ]
          },
          "metadata": {},
          "execution_count": 51
        }
      ]
    },
    {
      "cell_type": "code",
      "source": [
        "df['AQI_Bucket'].value_counts()"
      ],
      "metadata": {
        "colab": {
          "base_uri": "https://localhost:8080/"
        },
        "id": "S6xqWVB2Gc5X",
        "outputId": "50e5566a-c4b3-4107-d7b7-ccd2ac482947"
      },
      "execution_count": null,
      "outputs": [
        {
          "output_type": "execute_result",
          "data": {
            "text/plain": [
              "Moderate        13510\n",
              "Satisfactory     8224\n",
              "Poor             2781\n",
              "Very Poor        2337\n",
              "Good             1341\n",
              "Severe           1338\n",
              "Name: AQI_Bucket, dtype: int64"
            ]
          },
          "metadata": {},
          "execution_count": 44
        }
      ]
    },
    {
      "cell_type": "code",
      "source": [
        "df.loc[np.where(df['AQI_Bucket'] == 'Moderate')]['total'].max()"
      ],
      "metadata": {
        "colab": {
          "base_uri": "https://localhost:8080/"
        },
        "id": "nsMAnCtzGzDP",
        "outputId": "edb069a5-cece-46c3-ea5c-2d546387db0e"
      },
      "execution_count": null,
      "outputs": [
        {
          "output_type": "execute_result",
          "data": {
            "text/plain": [
              "2444.7800000000007"
            ]
          },
          "metadata": {},
          "execution_count": 50
        }
      ]
    },
    {
      "cell_type": "code",
      "source": [
        "df.loc[np.where(df['AQI_Bucket'] == 'Satisfactory')]['total'].max()"
      ],
      "metadata": {
        "colab": {
          "base_uri": "https://localhost:8080/"
        },
        "id": "hF0gr3AQHcys",
        "outputId": "b79e90d4-d683-44e6-b108-d87f44ec27da"
      },
      "execution_count": null,
      "outputs": [
        {
          "output_type": "execute_result",
          "data": {
            "text/plain": [
              "1148.96"
            ]
          },
          "metadata": {},
          "execution_count": 52
        }
      ]
    },
    {
      "cell_type": "code",
      "source": [
        "df.loc[np.where(df['AQI_Bucket'] == 'Satisfactory')]['total'].min()"
      ],
      "metadata": {
        "colab": {
          "base_uri": "https://localhost:8080/"
        },
        "id": "FGUEVmPhHlJD",
        "outputId": "715e7fa5-b5b3-4fcb-efe6-d00d8254930d"
      },
      "execution_count": null,
      "outputs": [
        {
          "output_type": "execute_result",
          "data": {
            "text/plain": [
              "104.89999999999999"
            ]
          },
          "metadata": {},
          "execution_count": 53
        }
      ]
    },
    {
      "cell_type": "code",
      "source": [
        "df.loc[np.where(df['AQI_Bucket'] == 'Poor')]['total'].max()"
      ],
      "metadata": {
        "colab": {
          "base_uri": "https://localhost:8080/"
        },
        "id": "xF84PmuxHoRZ",
        "outputId": "f47b57ec-7c49-4578-e10b-3a75b2e22154"
      },
      "execution_count": null,
      "outputs": [
        {
          "output_type": "execute_result",
          "data": {
            "text/plain": [
              "1376.01"
            ]
          },
          "metadata": {},
          "execution_count": 54
        }
      ]
    },
    {
      "cell_type": "code",
      "source": [
        "df.loc[np.where(df['AQI_Bucket'] == 'Poor')]['total'].min()"
      ],
      "metadata": {
        "colab": {
          "base_uri": "https://localhost:8080/"
        },
        "id": "TboVR7MaHuEG",
        "outputId": "8ae4c3de-247a-46b8-bd5b-af9886f1e74a"
      },
      "execution_count": null,
      "outputs": [
        {
          "output_type": "execute_result",
          "data": {
            "text/plain": [
              "373.14"
            ]
          },
          "metadata": {},
          "execution_count": 55
        }
      ]
    },
    {
      "cell_type": "code",
      "source": [
        "df.loc[np.where(df['AQI_Bucket'] == 'Severe')]['total'].max()"
      ],
      "metadata": {
        "colab": {
          "base_uri": "https://localhost:8080/"
        },
        "id": "FQbE9lrbHyJ8",
        "outputId": "1e7d819c-d6b3-443e-ed1f-edadebb8e264"
      },
      "execution_count": null,
      "outputs": [
        {
          "output_type": "execute_result",
          "data": {
            "text/plain": [
              "3176.3100000000004"
            ]
          },
          "metadata": {},
          "execution_count": 56
        }
      ]
    },
    {
      "cell_type": "code",
      "source": [
        "df.loc[np.where(df['AQI_Bucket'] == 'Severe')]['total'].min()"
      ],
      "metadata": {
        "colab": {
          "base_uri": "https://localhost:8080/"
        },
        "id": "6cVQ5D3mH4Oy",
        "outputId": "27f4c007-ae7a-4c47-ecc8-c123867064a9"
      },
      "execution_count": null,
      "outputs": [
        {
          "output_type": "execute_result",
          "data": {
            "text/plain": [
              "640.2800000000001"
            ]
          },
          "metadata": {},
          "execution_count": 57
        }
      ]
    },
    {
      "cell_type": "code",
      "source": [
        "df.loc[np.where(df['AQI_Bucket'] == 'Very Poor')]['total'].max()"
      ],
      "metadata": {
        "colab": {
          "base_uri": "https://localhost:8080/"
        },
        "id": "q2mRQvsnH_tJ",
        "outputId": "6902d7d4-733e-4534-f2b1-b484ed7bd83a"
      },
      "execution_count": null,
      "outputs": [
        {
          "output_type": "execute_result",
          "data": {
            "text/plain": [
              "1751.73"
            ]
          },
          "metadata": {},
          "execution_count": 58
        }
      ]
    },
    {
      "cell_type": "code",
      "source": [
        "df.loc[np.where(df['AQI_Bucket'] == 'Very Poor')]['total'].min()"
      ],
      "metadata": {
        "colab": {
          "base_uri": "https://localhost:8080/"
        },
        "id": "iuJHNWO6IP77",
        "outputId": "a3f712a0-c0af-4794-b1a3-b3e017995e12"
      },
      "execution_count": null,
      "outputs": [
        {
          "output_type": "execute_result",
          "data": {
            "text/plain": [
              "493.27"
            ]
          },
          "metadata": {},
          "execution_count": 61
        }
      ]
    },
    {
      "cell_type": "code",
      "source": [
        "vehical_poll_city=df[['City','vehical pollution']].groupby(['City'],as_index=False).mean()\n",
        "sns.barplot(x='City',y='vehical pollution',data=vehical_poll_city.head(5))"
      ],
      "metadata": {
        "colab": {
          "base_uri": "https://localhost:8080/",
          "height": 297
        },
        "id": "nlbVyIlS6ORP",
        "outputId": "2d98e3d1-6cc9-40aa-a616-da842511e525"
      },
      "execution_count": null,
      "outputs": [
        {
          "output_type": "execute_result",
          "data": {
            "text/plain": [
              "<matplotlib.axes._subplots.AxesSubplot at 0x7ff3ca237710>"
            ]
          },
          "metadata": {},
          "execution_count": 166
        },
        {
          "output_type": "display_data",
          "data": {
            "text/plain": [
              "<Figure size 432x288 with 1 Axes>"
            ],
            "image/png": "[encoded data removed]"
          },
          "metadata": {
            "needs_background": "light"
          }
        }
      ]
    },
    {
      "cell_type": "markdown",
      "source": [
        "Vehicle pollution in each city"
      ],
      "metadata": {
        "id": "wyYvuJAdgH12"
      }
    },
    {
      "cell_type": "markdown",
      "source": [],
      "metadata": {
        "id": "PuObKihtgG0v"
      }
    },
    {
      "cell_type": "code",
      "source": [
        "industrial_poll_city=df[['City','industrial pollution']].groupby(['City'],as_index=False).mean()\n",
        "sns.barplot(x='City',y='industrial pollution',data=industrial_poll_city.head(5))"
      ],
      "metadata": {
        "colab": {
          "base_uri": "https://localhost:8080/",
          "height": 297
        },
        "id": "9PhHc2Vr6O2z",
        "outputId": "845f552a-15b1-4a36-db03-2e69dc8f22fb"
      },
      "execution_count": null,
      "outputs": [
        {
          "output_type": "execute_result",
          "data": {
            "text/plain": [
              "<matplotlib.axes._subplots.AxesSubplot at 0x7ff3dd2b93d0>"
            ]
          },
          "metadata": {},
          "execution_count": 48
        },
        {
          "output_type": "display_data",
          "data": {
            "text/plain": [
              "<Figure size 432x288 with 1 Axes>"
            ],
            "image/png": "[encoded data removed]"
          },
          "metadata": {
            "needs_background": "light"
          }
        }
      ]
    },
    {
      "cell_type": "markdown",
      "source": [
        "Industrial pollution in each city\n"
      ],
      "metadata": {
        "id": "Mr0scTvxjlRh"
      }
    },
    {
      "cell_type": "code",
      "source": [
        "total_poll_city = df[['City','total']].groupby(['City'],as_index=False).mean()\n",
        "sns.barplot(x='City',y='total',data=total_poll_city.head(5))"
      ],
      "metadata": {
        "colab": {
          "base_uri": "https://localhost:8080/",
          "height": 297
        },
        "id": "mmP29DOl8A7X",
        "outputId": "057edea5-f118-4b01-91df-0fdb05d58e53"
      },
      "execution_count": null,
      "outputs": [
        {
          "output_type": "execute_result",
          "data": {
            "text/plain": [
              "<matplotlib.axes._subplots.AxesSubplot at 0x7ff3dd202250>"
            ]
          },
          "metadata": {},
          "execution_count": 50
        },
        {
          "output_type": "display_data",
          "data": {
            "text/plain": [
              "<Figure size 432x288 with 1 Axes>"
            ],
            "image/png": "[encoded data removed]"
          },
          "metadata": {
            "needs_background": "light"
          }
        }
      ]
    },
    {
      "cell_type": "markdown",
      "source": [
        "Total emissions in each city"
      ],
      "metadata": {
        "id": "0AuihMhRjvEz"
      }
    },
    {
      "cell_type": "code",
      "source": [
        "sns.heatmap(df.corr())"
      ],
      "metadata": {
        "colab": {
          "base_uri": "https://localhost:8080/",
          "height": 372
        },
        "id": "zNllB_5B_E5C",
        "outputId": "614c527a-4e3e-4eb3-d62c-a1699b183171"
      },
      "execution_count": null,
      "outputs": [
        {
          "output_type": "execute_result",
          "data": {
            "text/plain": [
              "<matplotlib.axes._subplots.AxesSubplot at 0x7ff3dd942e10>"
            ]
          },
          "metadata": {},
          "execution_count": 52
        },
        {
          "output_type": "display_data",
          "data": {
            "text/plain": [
              "<Figure size 432x288 with 2 Axes>"
            ],
            "image/png": "[encoded data removed]"
          },
          "metadata": {
            "needs_background": "light"
          }
        }
      ]
    },
    {
      "cell_type": "code",
      "source": [
        "df"
      ],
      "metadata": {
        "colab": {
          "base_uri": "https://localhost:8080/",
          "height": 659
        },
        "id": "3a6RN2WdCoGH",
        "outputId": "d7b0c0b4-045d-4a18-9e44-1301951e7e55"
      },
      "execution_count": null,
      "outputs": [
        {
          "output_type": "execute_result",
          "data": {
            "text/plain": [
              "                City       Date  PM2.5   PM10     NO    NO2    NOx    NH3  \\\n",
              "0          Ahmedabad 2015-01-01  48.57  95.68   0.92  18.22  17.15  15.85   \n",
              "1          Ahmedabad 2015-01-02  48.57  95.68   0.97  15.69  16.46  15.85   \n",
              "2          Ahmedabad 2015-01-03  48.57  95.68  17.40  19.30  29.70  15.85   \n",
              "3          Ahmedabad 2015-01-04  48.57  95.68   1.70  18.48  17.97  15.85   \n",
              "4          Ahmedabad 2015-01-05  48.57  95.68  22.10  21.42  37.76  15.85   \n",
              "...              ...        ...    ...    ...    ...    ...    ...    ...   \n",
              "29526  Visakhapatnam 2020-06-27  15.02  50.94   7.68  25.06  19.54  12.47   \n",
              "29527  Visakhapatnam 2020-06-28  24.38  74.09   3.42  26.06  16.53  11.99   \n",
              "29528  Visakhapatnam 2020-06-29  22.91  65.73   3.45  29.53  18.33  10.71   \n",
              "29529  Visakhapatnam 2020-06-30  16.64  49.97   4.05  29.26  18.80  10.03   \n",
              "29530  Visakhapatnam 2020-07-01  15.00  66.00   0.40  26.85  14.05   5.20   \n",
              "\n",
              "          CO    SO2      O3  Benzene  Toluene  Xylene    AQI    AQI_Bucket  \\\n",
              "0       0.92  27.64  133.36     0.00     0.02    0.00  118.0      Moderate   \n",
              "1       0.97  24.55   34.06     3.68     5.50    3.77  118.0      Moderate   \n",
              "2      17.40  29.07   30.70     6.80    16.40    2.25  118.0      Moderate   \n",
              "3       1.70  18.59   36.08     4.43    10.14    1.00  118.0      Moderate   \n",
              "4      22.10  39.33   39.31     7.01    18.89    2.78  118.0      Moderate   \n",
              "...      ...    ...     ...      ...      ...     ...    ...           ...   \n",
              "29526   0.47   8.55   23.30     2.24    12.07    0.73   41.0          Good   \n",
              "29527   0.52  12.72   30.14     0.74     2.21    0.38   70.0  Satisfactory   \n",
              "29528   0.48   8.42   30.96     0.01     0.01    0.00   68.0  Satisfactory   \n",
              "29529   0.52   9.84   28.30     0.00     0.00    0.00   54.0  Satisfactory   \n",
              "29530   0.59   2.10   17.05     1.07     2.97    0.98   50.0          Good   \n",
              "\n",
              "       vehical pollution  industrial pollution   total  \n",
              "0                 358.31                118.02  476.33  \n",
              "1                 252.80                130.95  383.75  \n",
              "2                 303.67                143.45  447.12  \n",
              "3                 254.62                133.57  388.19  \n",
              "4                 342.12                146.68  488.80  \n",
              "...                  ...                   ...     ...  \n",
              "29526             163.03                 56.04  219.07  \n",
              "29527             199.85                 73.33  273.18  \n",
              "29528             190.52                 68.02  258.54  \n",
              "29529             167.41                 54.00  221.41  \n",
              "29530             147.24                 55.02  202.26  \n",
              "\n",
              "[29531 rows x 19 columns]"
            ],
            "text/html": [
              "\n",
              "  <div id=\"df-cb208610-36d0-4d55-95fb-4c472bcf962a\">\n",
              "    <div class=\"colab-df-container\">\n",
              "      <div>\n",
              "<style scoped>\n",
              "    .dataframe tbody tr th:only-of-type {\n",
              "        vertical-align: middle;\n",
              "    }\n",
              "\n",
              "    .dataframe tbody tr th {\n",
              "        vertical-align: top;\n",
              "    }\n",
              "\n",
              "    .dataframe thead th {\n",
              "        text-align: right;\n",
              "    }\n",
              "</style>\n",
              "<table border=\"1\" class=\"dataframe\">\n",
              "  <thead>\n",
              "    <tr style=\"text-align: right;\">\n",
              "      <th></th>\n",
              "      <th>City</th>\n",
              "      <th>Date</th>\n",
              "      <th>PM2.5</th>\n",
              "      <th>PM10</th>\n",
              "      <th>NO</th>\n",
              "      <th>NO2</th>\n",
              "      <th>NOx</th>\n",
              "      <th>NH3</th>\n",
              "      <th>CO</th>\n",
              "      <th>SO2</th>\n",
              "      <th>O3</th>\n",
              "      <th>Benzene</th>\n",
              "      <th>Toluene</th>\n",
              "      <th>Xylene</th>\n",
              "      <th>AQI</th>\n",
              "      <th>AQI_Bucket</th>\n",
              "      <th>vehical pollution</th>\n",
              "      <th>industrial pollution</th>\n",
              "      <th>total</th>\n",
              "    </tr>\n",
              "  </thead>\n",
              "  <tbody>\n",
              "    <tr>\n",
              "      <th>0</th>\n",
              "      <td>Ahmedabad</td>\n",
              "      <td>2015-01-01</td>\n",
              "      <td>48.57</td>\n",
              "      <td>95.68</td>\n",
              "      <td>0.92</td>\n",
              "      <td>18.22</td>\n",
              "      <td>17.15</td>\n",
              "      <td>15.85</td>\n",
              "      <td>0.92</td>\n",
              "      <td>27.64</td>\n",
              "      <td>133.36</td>\n",
              "      <td>0.00</td>\n",
              "      <td>0.02</td>\n",
              "      <td>0.00</td>\n",
              "      <td>118.0</td>\n",
              "      <td>Moderate</td>\n",
              "      <td>358.31</td>\n",
              "      <td>118.02</td>\n",
              "      <td>476.33</td>\n",
              "    </tr>\n",
              "    <tr>\n",
              "      <th>1</th>\n",
              "      <td>Ahmedabad</td>\n",
              "      <td>2015-01-02</td>\n",
              "      <td>48.57</td>\n",
              "      <td>95.68</td>\n",
              "      <td>0.97</td>\n",
              "      <td>15.69</td>\n",
              "      <td>16.46</td>\n",
              "      <td>15.85</td>\n",
              "      <td>0.97</td>\n",
              "      <td>24.55</td>\n",
              "      <td>34.06</td>\n",
              "      <td>3.68</td>\n",
              "      <td>5.50</td>\n",
              "      <td>3.77</td>\n",
              "      <td>118.0</td>\n",
              "      <td>Moderate</td>\n",
              "      <td>252.80</td>\n",
              "      <td>130.95</td>\n",
              "      <td>383.75</td>\n",
              "    </tr>\n",
              "    <tr>\n",
              "      <th>2</th>\n",
              "      <td>Ahmedabad</td>\n",
              "      <td>2015-01-03</td>\n",
              "      <td>48.57</td>\n",
              "      <td>95.68</td>\n",
              "      <td>17.40</td>\n",
              "      <td>19.30</td>\n",
              "      <td>29.70</td>\n",
              "      <td>15.85</td>\n",
              "      <td>17.40</td>\n",
              "      <td>29.07</td>\n",
              "      <td>30.70</td>\n",
              "      <td>6.80</td>\n",
              "      <td>16.40</td>\n",
              "      <td>2.25</td>\n",
              "      <td>118.0</td>\n",
              "      <td>Moderate</td>\n",
              "      <td>303.67</td>\n",
              "      <td>143.45</td>\n",
              "      <td>447.12</td>\n",
              "    </tr>\n",
              "    <tr>\n",
              "      <th>3</th>\n",
              "      <td>Ahmedabad</td>\n",
              "      <td>2015-01-04</td>\n",
              "      <td>48.57</td>\n",
              "      <td>95.68</td>\n",
              "      <td>1.70</td>\n",
              "      <td>18.48</td>\n",
              "      <td>17.97</td>\n",
              "      <td>15.85</td>\n",
              "      <td>1.70</td>\n",
              "      <td>18.59</td>\n",
              "      <td>36.08</td>\n",
              "      <td>4.43</td>\n",
              "      <td>10.14</td>\n",
              "      <td>1.00</td>\n",
              "      <td>118.0</td>\n",
              "      <td>Moderate</td>\n",
              "      <td>254.62</td>\n",
              "      <td>133.57</td>\n",
              "      <td>388.19</td>\n",
              "    </tr>\n",
              "    <tr>\n",
              "      <th>4</th>\n",
              "      <td>Ahmedabad</td>\n",
              "      <td>2015-01-05</td>\n",
              "      <td>48.57</td>\n",
              "      <td>95.68</td>\n",
              "      <td>22.10</td>\n",
              "      <td>21.42</td>\n",
              "      <td>37.76</td>\n",
              "      <td>15.85</td>\n",
              "      <td>22.10</td>\n",
              "      <td>39.33</td>\n",
              "      <td>39.31</td>\n",
              "      <td>7.01</td>\n",
              "      <td>18.89</td>\n",
              "      <td>2.78</td>\n",
              "      <td>118.0</td>\n",
              "      <td>Moderate</td>\n",
              "      <td>342.12</td>\n",
              "      <td>146.68</td>\n",
              "      <td>488.80</td>\n",
              "    </tr>\n",
              "    <tr>\n",
              "      <th>...</th>\n",
              "      <td>...</td>\n",
              "      <td>...</td>\n",
              "      <td>...</td>\n",
              "      <td>...</td>\n",
              "      <td>...</td>\n",
              "      <td>...</td>\n",
              "      <td>...</td>\n",
              "      <td>...</td>\n",
              "      <td>...</td>\n",
              "      <td>...</td>\n",
              "      <td>...</td>\n",
              "      <td>...</td>\n",
              "      <td>...</td>\n",
              "      <td>...</td>\n",
              "      <td>...</td>\n",
              "      <td>...</td>\n",
              "      <td>...</td>\n",
              "      <td>...</td>\n",
              "      <td>...</td>\n",
              "    </tr>\n",
              "    <tr>\n",
              "      <th>29526</th>\n",
              "      <td>Visakhapatnam</td>\n",
              "      <td>2020-06-27</td>\n",
              "      <td>15.02</td>\n",
              "      <td>50.94</td>\n",
              "      <td>7.68</td>\n",
              "      <td>25.06</td>\n",
              "      <td>19.54</td>\n",
              "      <td>12.47</td>\n",
              "      <td>0.47</td>\n",
              "      <td>8.55</td>\n",
              "      <td>23.30</td>\n",
              "      <td>2.24</td>\n",
              "      <td>12.07</td>\n",
              "      <td>0.73</td>\n",
              "      <td>41.0</td>\n",
              "      <td>Good</td>\n",
              "      <td>163.03</td>\n",
              "      <td>56.04</td>\n",
              "      <td>219.07</td>\n",
              "    </tr>\n",
              "    <tr>\n",
              "      <th>29527</th>\n",
              "      <td>Visakhapatnam</td>\n",
              "      <td>2020-06-28</td>\n",
              "      <td>24.38</td>\n",
              "      <td>74.09</td>\n",
              "      <td>3.42</td>\n",
              "      <td>26.06</td>\n",
              "      <td>16.53</td>\n",
              "      <td>11.99</td>\n",
              "      <td>0.52</td>\n",
              "      <td>12.72</td>\n",
              "      <td>30.14</td>\n",
              "      <td>0.74</td>\n",
              "      <td>2.21</td>\n",
              "      <td>0.38</td>\n",
              "      <td>70.0</td>\n",
              "      <td>Satisfactory</td>\n",
              "      <td>199.85</td>\n",
              "      <td>73.33</td>\n",
              "      <td>273.18</td>\n",
              "    </tr>\n",
              "    <tr>\n",
              "      <th>29528</th>\n",
              "      <td>Visakhapatnam</td>\n",
              "      <td>2020-06-29</td>\n",
              "      <td>22.91</td>\n",
              "      <td>65.73</td>\n",
              "      <td>3.45</td>\n",
              "      <td>29.53</td>\n",
              "      <td>18.33</td>\n",
              "      <td>10.71</td>\n",
              "      <td>0.48</td>\n",
              "      <td>8.42</td>\n",
              "      <td>30.96</td>\n",
              "      <td>0.01</td>\n",
              "      <td>0.01</td>\n",
              "      <td>0.00</td>\n",
              "      <td>68.0</td>\n",
              "      <td>Satisfactory</td>\n",
              "      <td>190.52</td>\n",
              "      <td>68.02</td>\n",
              "      <td>258.54</td>\n",
              "    </tr>\n",
              "    <tr>\n",
              "      <th>29529</th>\n",
              "      <td>Visakhapatnam</td>\n",
              "      <td>2020-06-30</td>\n",
              "      <td>16.64</td>\n",
              "      <td>49.97</td>\n",
              "      <td>4.05</td>\n",
              "      <td>29.26</td>\n",
              "      <td>18.80</td>\n",
              "      <td>10.03</td>\n",
              "      <td>0.52</td>\n",
              "      <td>9.84</td>\n",
              "      <td>28.30</td>\n",
              "      <td>0.00</td>\n",
              "      <td>0.00</td>\n",
              "      <td>0.00</td>\n",
              "      <td>54.0</td>\n",
              "      <td>Satisfactory</td>\n",
              "      <td>167.41</td>\n",
              "      <td>54.00</td>\n",
              "      <td>221.41</td>\n",
              "    </tr>\n",
              "    <tr>\n",
              "      <th>29530</th>\n",
              "      <td>Visakhapatnam</td>\n",
              "      <td>2020-07-01</td>\n",
              "      <td>15.00</td>\n",
              "      <td>66.00</td>\n",
              "      <td>0.40</td>\n",
              "      <td>26.85</td>\n",
              "      <td>14.05</td>\n",
              "      <td>5.20</td>\n",
              "      <td>0.59</td>\n",
              "      <td>2.10</td>\n",
              "      <td>17.05</td>\n",
              "      <td>1.07</td>\n",
              "      <td>2.97</td>\n",
              "      <td>0.98</td>\n",
              "      <td>50.0</td>\n",
              "      <td>Good</td>\n",
              "      <td>147.24</td>\n",
              "      <td>55.02</td>\n",
              "      <td>202.26</td>\n",
              "    </tr>\n",
              "  </tbody>\n",
              "</table>\n",
              "<p>29531 rows × 19 columns</p>\n",
              "</div>\n",
              "      <button class=\"colab-df-convert\" onclick=\"convertToInteractive('df-cb208610-36d0-4d55-95fb-4c472bcf962a')\"\n",
              "              title=\"Convert this dataframe to an interactive table.\"\n",
              "              style=\"display:none;\">\n",
              "        \n",
              "  <svg xmlns=\"http://www.w3.org/2000/svg\" height=\"24px\"viewBox=\"0 0 24 24\"\n",
              "       width=\"24px\">\n",
              "    <path d=\"M0 0h24v24H0V0z\" fill=\"none\"/>\n",
              "    <path d=\"M18.56 5.44l.94 2.06.94-2.06 2.06-.94-2.06-.94-.94-2.06-.94 2.06-2.06.94zm-11 1L8.5 8.5l.94-2.06 2.06-.94-2.06-.94L8.5 2.5l-.94 2.06-2.06.94zm10 10l.94 2.06.94-2.06 2.06-.94-2.06-.94-.94-2.06-.94 2.06-2.06.94z\"/><path d=\"M17.41 7.96l-1.37-1.37c-.4-.4-.92-.59-1.43-.59-.52 0-1.04.2-1.43.59L10.3 9.45l-7.72 7.72c-.78.78-.78 2.05 0 2.83L4 21.41c.39.39.9.59 1.41.59.51 0 1.02-.2 1.41-.59l7.78-7.78 2.81-2.81c.8-.78.8-2.07 0-2.86zM5.41 20L4 18.59l7.72-7.72 1.47 1.35L5.41 20z\"/>\n",
              "  </svg>\n",
              "      </button>\n",
              "      \n",
              "  <style>\n",
              "    .colab-df-container {\n",
              "      display:flex;\n",
              "      flex-wrap:wrap;\n",
              "      gap: 12px;\n",
              "    }\n",
              "\n",
              "    .colab-df-convert {\n",
              "      background-color: #E8F0FE;\n",
              "      border: none;\n",
              "      border-radius: 50%;\n",
              "      cursor: pointer;\n",
              "      display: none;\n",
              "      fill: #1967D2;\n",
              "      height: 32px;\n",
              "      padding: 0 0 0 0;\n",
              "      width: 32px;\n",
              "    }\n",
              "\n",
              "    .colab-df-convert:hover {\n",
              "      background-color: #E2EBFA;\n",
              "      box-shadow: 0px 1px 2px rgba(60, 64, 67, 0.3), 0px 1px 3px 1px rgba(60, 64, 67, 0.15);\n",
              "      fill: #174EA6;\n",
              "    }\n",
              "\n",
              "    [theme=dark] .colab-df-convert {\n",
              "      background-color: #3B4455;\n",
              "      fill: #D2E3FC;\n",
              "    }\n",
              "\n",
              "    [theme=dark] .colab-df-convert:hover {\n",
              "      background-color: #434B5C;\n",
              "      box-shadow: 0px 1px 3px 1px rgba(0, 0, 0, 0.15);\n",
              "      filter: drop-shadow(0px 1px 2px rgba(0, 0, 0, 0.3));\n",
              "      fill: #FFFFFF;\n",
              "    }\n",
              "  </style>\n",
              "\n",
              "      <script>\n",
              "        const buttonEl =\n",
              "          document.querySelector('#df-cb208610-36d0-4d55-95fb-4c472bcf962a button.colab-df-convert');\n",
              "        buttonEl.style.display =\n",
              "          google.colab.kernel.accessAllowed ? 'block' : 'none';\n",
              "\n",
              "        async function convertToInteractive(key) {\n",
              "          const element = document.querySelector('#df-cb208610-36d0-4d55-95fb-4c472bcf962a');\n",
              "          const dataTable =\n",
              "            await google.colab.kernel.invokeFunction('convertToInteractive',\n",
              "                                                     [key], {});\n",
              "          if (!dataTable) return;\n",
              "\n",
              "          const docLinkHtml = 'Like what you see? Visit the ' +\n",
              "            '<a target=\"_blank\" href=https://colab.research.google.com/notebooks/data_table.ipynb>data table notebook</a>'\n",
              "            + ' to learn more about interactive tables.';\n",
              "          element.innerHTML = '';\n",
              "          dataTable['output_type'] = 'display_data';\n",
              "          await google.colab.output.renderOutput(dataTable, element);\n",
              "          const docLink = document.createElement('div');\n",
              "          docLink.innerHTML = docLinkHtml;\n",
              "          element.appendChild(docLink);\n",
              "        }\n",
              "      </script>\n",
              "    </div>\n",
              "  </div>\n",
              "  "
            ]
          },
          "metadata": {},
          "execution_count": 53
        }
      ]
    },
    {
      "cell_type": "code",
      "source": [
        "from sklearn.model_selection import train_test_split\n",
        "df2 = df.copy()\n",
        "df2.drop('Date',axis=1,inplace=True)\n",
        "X =  df2[df2.columns[:15]]\n",
        "y = df2[['AQI_Bucket']]\n",
        "X_train_30, X_test_30, y_train_30, y_test_30 = train_test_split(X, y, test_size=0.3, random_state=42)"
      ],
      "metadata": {
        "id": "DUHcLxuC_h7A"
      },
      "execution_count": null,
      "outputs": []
    },
    {
      "cell_type": "code",
      "source": [
        "from sklearn.preprocessing import LabelEncoder\n",
        "le=LabelEncoder()\n",
        "df['City']=le.fit_transform(df['City'].astype(str))\n",
        "df['AQI_Bucket']=le.fit_transform(df['AQI_Bucket'].astype(str))"
      ],
      "metadata": {
        "id": "cvHryDwlEZan"
      },
      "execution_count": null,
      "outputs": []
    },
    {
      "cell_type": "markdown",
      "source": [],
      "metadata": {
        "id": "nopm6_dnj9RX"
      }
    },
    {
      "cell_type": "code",
      "source": [
        "from sklearn.model_selection import train_test_split\n",
        "df2 = df.copy()\n",
        "df2.drop('Date',axis=1,inplace=True)\n",
        "X =  df2[df2.columns[:15]]\n",
        "y = df2[['AQI_Bucket']]\n",
        "X_train_40, X_test_40, y_train_40, y_test_40 = train_test_split(X, y, test_size=0.4, random_state=42)"
      ],
      "metadata": {
        "id": "YVIFAICjQeFx"
      },
      "execution_count": null,
      "outputs": []
    },
    {
      "cell_type": "markdown",
      "source": [],
      "metadata": {
        "id": "G9qX6q1HkB2_"
      }
    },
    {
      "cell_type": "markdown",
      "source": [
        "Linear Regression 30% test split ->\n",
        "MSE : 1.5155513476622153e-29"
      ],
      "metadata": {
        "id": "0fIYQs16kHZT"
      }
    },
    {
      "cell_type": "code",
      "source": [
        "from sklearn.linear_model import LinearRegression\n",
        "from sklearn.metrics import mean_squared_error\n",
        "model = LinearRegression().fit(X_train_30, y_train_30)\n",
        "y_pred = model.predict(X_test_30)\n",
        "mean_squared_error(y_test_30, y_pred)"
      ],
      "metadata": {
        "colab": {
          "base_uri": "https://localhost:8080/"
        },
        "id": "vTHThYhBDcPa",
        "outputId": "585e7cf7-e5a5-40a9-d414-ac46528cb699"
      },
      "execution_count": null,
      "outputs": [
        {
          "output_type": "execute_result",
          "data": {
            "text/plain": [
              "9.151011227176821e-30"
            ]
          },
          "metadata": {},
          "execution_count": 14
        }
      ]
    },
    {
      "cell_type": "markdown",
      "source": [
        "Linear Regression 40% test split ->\n",
        "MSE : 2.1292833685397445e-29"
      ],
      "metadata": {
        "id": "C8hrYwaokGev"
      }
    },
    {
      "cell_type": "code",
      "source": [
        "from sklearn.linear_model import LinearRegression\n",
        "from sklearn.metrics import mean_squared_error\n",
        "model = LinearRegression().fit(X_train_40, y_train_40)\n",
        "y_pred = model.predict(X_test_40)\n",
        "mean_squared_error(y_test_40, y_pred)"
      ],
      "metadata": {
        "colab": {
          "base_uri": "https://localhost:8080/"
        },
        "id": "3XL5GMz3PVGc",
        "outputId": "139bc6ba-61c7-4499-c211-571ae3fe5752"
      },
      "execution_count": null,
      "outputs": [
        {
          "output_type": "execute_result",
          "data": {
            "text/plain": [
              "3.4631520744876935e-30"
            ]
          },
          "metadata": {},
          "execution_count": 15
        }
      ]
    },
    {
      "cell_type": "markdown",
      "source": [
        "SVC 30% accuracy = 98.7020316027088"
      ],
      "metadata": {
        "id": "qi80c_bwlC6r"
      }
    },
    {
      "cell_type": "code",
      "source": [
        "from sklearn.svm import SVC\n",
        "from sklearn.metrics import accuracy_score\n",
        "from sklearn.metrics import confusion_matrix\n",
        "cls=SVC()\n",
        "cls.fit(X_train_30,y_train_30)\n",
        "svmpred=cls.predict(X_test_30)\n",
        "svmpred\n",
        "cm=confusion_matrix(y_test_30,svmpred)\n",
        "print(\"confussion matrix\")\n",
        "print(cm)\n",
        "print(\"\\n\")\n",
        "accuracy=accuracy_score(y_test_30,svmpred)\n",
        "print(\"accuracy\",accuracy*100)"
      ],
      "metadata": {
        "colab": {
          "base_uri": "https://localhost:8080/"
        },
        "id": "SJK5eBkoYdAJ",
        "outputId": "d38749cd-2409-4140-dc73-01c482c1819b"
      },
      "execution_count": null,
      "outputs": [
        {
          "output_type": "stream",
          "name": "stderr",
          "text": [
            "/usr/local/lib/python3.7/dist-packages/sklearn/utils/validation.py:993: DataConversionWarning: A column-vector y was passed when a 1d array was expected. Please change the shape of y to (n_samples, ), for example using ravel().\n",
            "  y = column_or_1d(y, warn=True)\n"
          ]
        },
        {
          "output_type": "stream",
          "name": "stdout",
          "text": [
            "confussion matrix\n",
            "[[ 354    0    0   31    0    0]\n",
            " [   0 4090    0    4    0    0]\n",
            " [   0   21  792    0    0   16]\n",
            " [   0   19    0 2422    0    0]\n",
            " [   0    0    0    0  389   17]\n",
            " [   0    0    4    0    3  698]]\n",
            "\n",
            "\n",
            "accuracy 98.7020316027088\n"
          ]
        }
      ]
    },
    {
      "cell_type": "markdown",
      "source": [
        "SVC 40% accuracy 98.5439769745196"
      ],
      "metadata": {
        "id": "cNkmcm3jlK0S"
      }
    },
    {
      "cell_type": "code",
      "source": [
        "from sklearn.svm import SVC\n",
        "from sklearn.metrics import accuracy_score\n",
        "cls=SVC()\n",
        "cls.fit(X_train_40,y_train_40)\n",
        "svmpred=cls.predict(X_test_40)\n",
        "svmpred\n",
        "cm=confusion_matrix(y_test_40,svmpred)\n",
        "print(\"confussion matrix\")\n",
        "print(cm)\n",
        "print(\"\\n\")\n",
        "accuracy=accuracy_score(y_test_40,svmpred)\n",
        "print(\"accuracy\",accuracy*100)"
      ],
      "metadata": {
        "colab": {
          "base_uri": "https://localhost:8080/"
        },
        "outputId": "de93bd8f-8dfe-44de-fc6e-74fa476e8aef",
        "id": "_fdAZXzjcXCw"
      },
      "execution_count": null,
      "outputs": [
        {
          "output_type": "stream",
          "name": "stderr",
          "text": [
            "/usr/local/lib/python3.7/dist-packages/sklearn/utils/validation.py:993: DataConversionWarning: A column-vector y was passed when a 1d array was expected. Please change the shape of y to (n_samples, ), for example using ravel().\n",
            "  y = column_or_1d(y, warn=True)\n"
          ]
        },
        {
          "output_type": "stream",
          "name": "stdout",
          "text": [
            "confussion matrix\n",
            "[[ 478    0    0   54    0    0]\n",
            " [   0 5438    2    8    0    0]\n",
            " [   0   32 1073    0    0   20]\n",
            " [   0   23    0 3214    0    0]\n",
            " [   0    0    0    0  515   21]\n",
            " [   0    0    5    0    7  923]]\n",
            "\n",
            "\n",
            "accuracy 98.5439769745196\n"
          ]
        }
      ]
    },
    {
      "cell_type": "code",
      "source": [
        "from sklearn.ensemble import RandomForestClassifier\n",
        "\n",
        "rf = RandomForestClassifier(n_estimators=20, random_state=23)\n",
        "rf.fit(X_train_30, y_train_30)\n",
        "rf_predict=rf.predict(X_test_30)\n",
        "\n",
        "rf_conf_matrix = confusion_matrix(y_test_30, rf_predict)\n",
        "rf_acc_score = accuracy_score(y_test_30, rf_predict)\n",
        "print(\"confussion matrix\")\n",
        "print(rf_conf_matrix)\n",
        "print(\"\\n\")\n",
        "print(\"accuracy\",rf_acc_score*100)"
      ],
      "metadata": {
        "colab": {
          "base_uri": "https://localhost:8080/"
        },
        "id": "IYk9ILRBca8y",
        "outputId": "68bed964-16fd-4a17-e77b-13192711a30c"
      },
      "execution_count": null,
      "outputs": [
        {
          "output_type": "stream",
          "name": "stderr",
          "text": [
            "/usr/local/lib/python3.7/dist-packages/ipykernel_launcher.py:4: DataConversionWarning: A column-vector y was passed when a 1d array was expected. Please change the shape of y to (n_samples,), for example using ravel().\n",
            "  after removing the cwd from sys.path.\n"
          ]
        },
        {
          "output_type": "stream",
          "name": "stdout",
          "text": [
            "confussion matrix\n",
            "[[ 385    0    0    0    0    0]\n",
            " [   0 4094    0    0    0    0]\n",
            " [   0    0  829    0    0    0]\n",
            " [   0    0    0 2441    0    0]\n",
            " [   0    0    0    0  406    0]\n",
            " [   0    0    0    0    0  705]]\n",
            "\n",
            "\n",
            "accuracy 100.0\n"
          ]
        }
      ]
    },
    {
      "cell_type": "markdown",
      "source": [
        "Random Forest Classifier 40%: accuracy 99.98306949970372"
      ],
      "metadata": {
        "id": "gAA48Beknzol"
      }
    },
    {
      "cell_type": "code",
      "source": [
        "from sklearn.ensemble import RandomForestClassifier\n",
        "\n",
        "rf = RandomForestClassifier(n_estimators=20, random_state=23)\n",
        "rf.fit(X_train_40, y_train_40)\n",
        "rf_predict=rf.predict(X_test_40)\n",
        "rf_predict1=rf.predict(X_train_40)\n",
        "# rf_conf_matrix = confusion_matrix(y_test, rf_predict)\n",
        "rf_acc_score = accuracy_score(y_test_40, rf_predict)\n",
        "# print(\"confussion matrix\")\n",
        "# print(rf_conf_matrix)\n",
        "print(\"\\n\")\n",
        "print(\"accuracy\",rf_acc_score*100)"
      ],
      "metadata": {
        "colab": {
          "base_uri": "https://localhost:8080/"
        },
        "id": "5OqN9Rc2eVkX",
        "outputId": "8ebb452f-891d-4b0c-853b-2788c5f7e2d1"
      },
      "execution_count": null,
      "outputs": [
        {
          "output_type": "stream",
          "name": "stderr",
          "text": [
            "/usr/local/lib/python3.7/dist-packages/ipykernel_launcher.py:4: DataConversionWarning: A column-vector y was passed when a 1d array was expected. Please change the shape of y to (n_samples,), for example using ravel().\n",
            "  after removing the cwd from sys.path.\n"
          ]
        },
        {
          "output_type": "stream",
          "name": "stdout",
          "text": [
            "\n",
            "\n",
            "accuracy 99.98306949970372\n"
          ]
        }
      ]
    },
    {
      "cell_type": "code",
      "source": [],
      "metadata": {
        "id": "B6A_8b1-e9VY"
      },
      "execution_count": null,
      "outputs": []
    }
  ]
}